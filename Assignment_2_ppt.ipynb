{
 "cells": [
  {
   "cell_type": "code",
   "execution_count": 2,
   "id": "7beb4751-2ecc-41da-8709-4ce1aacd4fc1",
   "metadata": {},
   "outputs": [],
   "source": [
    "## PPT ASSIGNMENT--2\n"
   ]
  },
  {
   "cell_type": "code",
   "execution_count": 3,
   "id": "e03a9e03-ed0b-4721-9bef-ae788e261ccb",
   "metadata": {},
   "outputs": [],
   "source": [
    "#Ques-1"
   ]
  },
  {
   "cell_type": "code",
   "execution_count": 4,
   "id": "718b437f-6a1b-4c0c-b9a8-907fb4bf4f96",
   "metadata": {},
   "outputs": [
    {
     "name": "stdout",
     "output_type": "stream",
     "text": [
      "4\n"
     ]
    }
   ],
   "source": [
    "#Sol-1\n",
    "def arrayPairSum(nums):\n",
    "    nums.sort()  \n",
    "    max_sum = 0\n",
    "    for i in range(0, len(nums), 2):\n",
    "        max_sum += nums[i]\n",
    "    return max_sum\n",
    "nums = [1, 4, 3, 2]\n",
    "print(arrayPairSum(nums))"
   ]
  },
  {
   "cell_type": "code",
   "execution_count": 5,
   "id": "1c100008-2eea-433c-a213-b5d5a09eab0f",
   "metadata": {},
   "outputs": [],
   "source": [
    "#Ques-2"
   ]
  },
  {
   "cell_type": "code",
   "execution_count": 6,
   "id": "e61dc590-ac79-4aa5-8283-24869004aca4",
   "metadata": {},
   "outputs": [
    {
     "name": "stdout",
     "output_type": "stream",
     "text": [
      "3\n"
     ]
    }
   ],
   "source": [
    "#Sol-2\n",
    "def maxCandies(candyType):\n",
    "    unique_candies = set()\n",
    "    for candy in candyType:\n",
    "        unique_candies.add(candy)\n",
    "    return min(len(unique_candies), len(candyType) // 2)\n",
    "candyType = [1, 1, 2, 2, 3, 3]\n",
    "print(maxCandies(candyType))"
   ]
  },
  {
   "cell_type": "code",
   "execution_count": 7,
   "id": "dcc08f36-5249-49c4-a48f-ac28fbbc13b1",
   "metadata": {},
   "outputs": [],
   "source": [
    "#Ques-3"
   ]
  },
  {
   "cell_type": "code",
   "execution_count": 8,
   "id": "b8beb1b6-81b6-4d12-9e90-deb37958c4f7",
   "metadata": {},
   "outputs": [
    {
     "name": "stdout",
     "output_type": "stream",
     "text": [
      "5\n"
     ]
    }
   ],
   "source": [
    "#Sol-3\n",
    "def findLHS(nums):\n",
    "    count = {}\n",
    "    for num in nums:\n",
    "        if num not in count:\n",
    "            count[num] = 1\n",
    "        else:\n",
    "            count[num] += 1\n",
    "\n",
    "    max_length = 0\n",
    "    for num in nums:\n",
    "        if num + 1 in count:\n",
    "            max_length = max(max_length, count[num] + count[num + 1])\n",
    "\n",
    "    return max_length\n",
    "\n",
    "nums = [1, 3, 2, 2, 5, 2, 3, 7]\n",
    "print(findLHS(nums))"
   ]
  },
  {
   "cell_type": "code",
   "execution_count": 9,
   "id": "0fea9d03-d1d6-488d-84a6-cb2bd98eeae7",
   "metadata": {},
   "outputs": [],
   "source": [
    "#Ques-4"
   ]
  },
  {
   "cell_type": "code",
   "execution_count": 10,
   "id": "428784ed-1341-4106-9ade-a1d90575f5e8",
   "metadata": {},
   "outputs": [
    {
     "name": "stdout",
     "output_type": "stream",
     "text": [
      "True\n"
     ]
    }
   ],
   "source": [
    "#Sol-4\n",
    "def canPlaceFlowers(flowerbed, n):\n",
    "    count = 0\n",
    "    length = len(flowerbed)\n",
    "\n",
    "    for i in range(length):\n",
    "        if flowerbed[i] == 0 and (i == 0 or flowerbed[i - 1] == 0) and (i == length - 1 or flowerbed[i + 1] == 0):\n",
    "            flowerbed[i] = 1\n",
    "            count += 1\n",
    "\n",
    "    return count >= n\n",
    "flowerbed = [1, 0, 0, 0, 1]\n",
    "n = 1\n",
    "print(canPlaceFlowers(flowerbed, n))"
   ]
  },
  {
   "cell_type": "code",
   "execution_count": 11,
   "id": "54d2c65e-3f1d-4f1d-8ce0-609f4f86aee3",
   "metadata": {},
   "outputs": [],
   "source": [
    "#Ques-5"
   ]
  },
  {
   "cell_type": "code",
   "execution_count": 12,
   "id": "d9427b88-96aa-4f45-80b5-e715e5c1d141",
   "metadata": {},
   "outputs": [
    {
     "name": "stdout",
     "output_type": "stream",
     "text": [
      "6\n"
     ]
    }
   ],
   "source": [
    "#Sol-5\n",
    "def maximumProduct(nums):\n",
    "    nums.sort()\n",
    "    max_product = nums[-1] * nums[-2] * nums[-3]\n",
    "\n",
    "    if nums[0] < 0 and nums[1] < 0:\n",
    "        alt_product = nums[0] * nums[1] * nums[-1]\n",
    "        return max(max_product, alt_product)\n",
    "\n",
    "    return max_product\n",
    "nums = [1, 2, 3]\n",
    "print(maximumProduct(nums))"
   ]
  },
  {
   "cell_type": "code",
   "execution_count": 13,
   "id": "68f550a8-5e88-4ad8-8730-e0a64a4598f1",
   "metadata": {},
   "outputs": [],
   "source": [
    "#Ques-6"
   ]
  },
  {
   "cell_type": "code",
   "execution_count": 14,
   "id": "9b9936be-bfb6-45db-be9b-c99fb44fbec1",
   "metadata": {},
   "outputs": [
    {
     "name": "stdout",
     "output_type": "stream",
     "text": [
      "4\n"
     ]
    }
   ],
   "source": [
    "#Sol-6\n",
    "def search(nums, target):\n",
    "    left, right = 0, len(nums) - 1\n",
    "\n",
    "    while left <= right:\n",
    "        mid = (left + right) // 2\n",
    "        if nums[mid] == target:\n",
    "            return mid\n",
    "        elif nums[mid] < target:\n",
    "            left = mid + 1\n",
    "        else:\n",
    "            right = mid - 1\n",
    "\n",
    "    return -1\n",
    "nums = [-1, 0, 3, 5, 9, 12]\n",
    "target = 9\n",
    "print(search(nums, target))"
   ]
  },
  {
   "cell_type": "code",
   "execution_count": 15,
   "id": "675e62a4-baf6-431e-b96f-76bcd6bd6fcd",
   "metadata": {},
   "outputs": [],
   "source": [
    "#Ques-7"
   ]
  },
  {
   "cell_type": "code",
   "execution_count": 16,
   "id": "c3e385ca-ebcf-410b-b6aa-196818cfe811",
   "metadata": {},
   "outputs": [
    {
     "name": "stdout",
     "output_type": "stream",
     "text": [
      "True\n"
     ]
    }
   ],
   "source": [
    "#Sol-7\n",
    "def isMonotonic(nums):\n",
    "    isIncreasing = True\n",
    "    isDecreasing = True\n",
    "\n",
    "    for i in range(1, len(nums)):\n",
    "        if nums[i] < nums[i-1]:\n",
    "            isIncreasing = False\n",
    "        if nums[i] > nums[i-1]:\n",
    "            isDecreasing = False\n",
    "\n",
    "    return isIncreasing or isDecreasing\n",
    "\n",
    "nums = [1, 2, 2, 3]\n",
    "print(isMonotonic(nums)) "
   ]
  },
  {
   "cell_type": "code",
   "execution_count": 17,
   "id": "ed957a5a-24ed-4315-b798-89b3848354ab",
   "metadata": {},
   "outputs": [],
   "source": [
    "#Ques-8"
   ]
  },
  {
   "cell_type": "code",
   "execution_count": 18,
   "id": "55fa0921-c761-46bd-bce5-0b0325e74878",
   "metadata": {},
   "outputs": [
    {
     "name": "stdout",
     "output_type": "stream",
     "text": [
      "0\n"
     ]
    }
   ],
   "source": [
    "#Sol-8\n",
    "def minimumScore(nums, k):\n",
    "    maximum = max(nums)\n",
    "    minimum = min(nums)\n",
    "    \n",
    "    if maximum - minimum <= 2 * k:\n",
    "        return 0\n",
    "    \n",
    "    return maximum - minimum - 2 * k\n",
    "\n",
    "# Example usage\n",
    "nums = [1]\n",
    "k = 0\n",
    "print(minimumScore(nums, k)) "
   ]
  },
  {
   "cell_type": "code",
   "execution_count": null,
   "id": "680cb04e-0c01-4a9f-b8e4-934bae642c30",
   "metadata": {},
   "outputs": [],
   "source": []
  }
 ],
 "metadata": {
  "kernelspec": {
   "display_name": "Python 3 (ipykernel)",
   "language": "python",
   "name": "python3"
  },
  "language_info": {
   "codemirror_mode": {
    "name": "ipython",
    "version": 3
   },
   "file_extension": ".py",
   "mimetype": "text/x-python",
   "name": "python",
   "nbconvert_exporter": "python",
   "pygments_lexer": "ipython3",
   "version": "3.10.8"
  }
 },
 "nbformat": 4,
 "nbformat_minor": 5
}
