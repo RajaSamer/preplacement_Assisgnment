{
 "cells": [
  {
   "cell_type": "code",
   "execution_count": null,
   "id": "653aa152-3753-439f-b94d-c373f04265a4",
   "metadata": {},
   "outputs": [],
   "source": [
    "## ASSISGNMENT-4__PPT PROGRAMME"
   ]
  },
  {
   "cell_type": "code",
   "execution_count": null,
   "id": "62fe16d7-cc15-4c46-adc2-3ad17fe09f59",
   "metadata": {},
   "outputs": [],
   "source": [
    "#Ques-1"
   ]
  },
  {
   "cell_type": "code",
   "execution_count": 1,
   "id": "b825fe8c-6ddb-48e6-b34f-aedb8f9d9204",
   "metadata": {},
   "outputs": [],
   "source": [
    "#Sol-1\n",
    "def find_common_elements(arr1, arr2, arr3):\n",
    "    common_elements = []\n",
    "    i, j, k = 0, 0, 0\n",
    "\n",
    "    while i < len(arr1) and j < len(arr2) and k < len(arr3):\n",
    "        if arr1[i] == arr2[j] == arr3[k]:\n",
    "            common_elements.append(arr1[i])\n",
    "            i += 1\n",
    "            j += 1\n",
    "            k += 1\n",
    "        elif arr1[i] < arr2[j]:\n",
    "            i += 1\n",
    "        elif arr2[j] < arr3[k]:\n",
    "            j += 1\n",
    "        else:\n",
    "            k += 1\n",
    "\n",
    "    return common_elements\n"
   ]
  },
  {
   "cell_type": "code",
   "execution_count": 2,
   "id": "7d5d19e9-f906-4c40-8140-49cf1d1610a1",
   "metadata": {},
   "outputs": [
    {
     "name": "stdout",
     "output_type": "stream",
     "text": [
      "[1, 5]\n"
     ]
    }
   ],
   "source": [
    "arr1 = [1, 2, 3, 4, 5]\n",
    "arr2 = [1, 2, 5, 7, 9]\n",
    "arr3 = [1, 3, 4, 5, 8]\n",
    "\n",
    "result = find_common_elements(arr1, arr2, arr3)\n",
    "print(result)"
   ]
  },
  {
   "cell_type": "code",
   "execution_count": 3,
   "id": "ba66b025-e34d-4778-9e2c-1b22a41b010c",
   "metadata": {},
   "outputs": [],
   "source": [
    "#Ques-2"
   ]
  },
  {
   "cell_type": "code",
   "execution_count": 4,
   "id": "75ceaa30-7b65-46f7-97bf-e64033d92d1e",
   "metadata": {},
   "outputs": [],
   "source": [
    "#Sol-2\n",
    "def find_missing_elements(nums1, nums2):\n",
    "    set1 = set(nums1)\n",
    "    set2 = set(nums2)\n",
    "\n",
    "    missing_nums1 = list(set1 - set2)\n",
    "    missing_nums2 = list(set2 - set1)\n",
    "\n",
    "    return [missing_nums1, missing_nums2]"
   ]
  },
  {
   "cell_type": "code",
   "execution_count": 5,
   "id": "24ebc385-1939-4c37-8670-c88a184c5eae",
   "metadata": {},
   "outputs": [
    {
     "name": "stdout",
     "output_type": "stream",
     "text": [
      "[[1, 3], [4, 6]]\n"
     ]
    }
   ],
   "source": [
    "nums1 = [1, 2, 3]\n",
    "nums2 = [2, 4, 6]\n",
    "\n",
    "result = find_missing_elements(nums1, nums2)\n",
    "print(result)"
   ]
  },
  {
   "cell_type": "code",
   "execution_count": 6,
   "id": "68835d26-3cdb-48f4-b3ad-c6aa8ed012f5",
   "metadata": {},
   "outputs": [],
   "source": [
    "#Ques-3"
   ]
  },
  {
   "cell_type": "code",
   "execution_count": 7,
   "id": "66b03f1e-e64f-46ca-90a4-63be59efd12b",
   "metadata": {},
   "outputs": [],
   "source": [
    "#SOl-3\n",
    "def transpose(matrix):\n",
    "    rows = len(matrix)\n",
    "    cols = len(matrix[0])\n",
    "\n",
    "    transpose_matrix = [[0] * rows for _ in range(cols)]\n",
    "\n",
    "    for i in range(rows):\n",
    "        for j in range(cols):\n",
    "            transpose_matrix[j][i] = matrix[i][j]\n",
    "\n",
    "    return transpose_matrix"
   ]
  },
  {
   "cell_type": "code",
   "execution_count": 8,
   "id": "634c0d5e-26d1-4504-9890-42be1c3958d2",
   "metadata": {},
   "outputs": [
    {
     "name": "stdout",
     "output_type": "stream",
     "text": [
      "[[1, 4, 7], [2, 5, 8], [3, 6, 9]]\n"
     ]
    }
   ],
   "source": [
    "matrix = [[1, 2, 3], [4, 5, 6], [7, 8, 9]]\n",
    "\n",
    "result = transpose(matrix)\n",
    "print(result)"
   ]
  },
  {
   "cell_type": "code",
   "execution_count": 9,
   "id": "7fa9570d-f37a-4933-b04a-a5f87325f08a",
   "metadata": {},
   "outputs": [],
   "source": [
    "#Ques-4"
   ]
  },
  {
   "cell_type": "code",
   "execution_count": 10,
   "id": "10b9d8db-95a8-41d5-9308-06d1b6df02cc",
   "metadata": {},
   "outputs": [
    {
     "name": "stdout",
     "output_type": "stream",
     "text": [
      "4\n"
     ]
    }
   ],
   "source": [
    "#Sol-4\n",
    "def array_pair_sum(nums):\n",
    "    nums.sort()  \n",
    "    n = len(nums)\n",
    "    max_sum = 0\n",
    "\n",
    "    for i in range(0, n, 2):\n",
    "        max_sum += nums[i]\n",
    "\n",
    "    return max_sum\n",
    "\n",
    "nums = [1, 4, 3, 2]\n",
    "\n",
    "result = array_pair_sum(nums)\n",
    "print(result)"
   ]
  },
  {
   "cell_type": "code",
   "execution_count": 11,
   "id": "b3851f0a-77fb-401a-bfa8-c4afa62198b4",
   "metadata": {},
   "outputs": [],
   "source": [
    "#Ques-5"
   ]
  },
  {
   "cell_type": "code",
   "execution_count": 12,
   "id": "c5be082b-6394-4fdd-9706-a9fc5982b84c",
   "metadata": {},
   "outputs": [
    {
     "name": "stdout",
     "output_type": "stream",
     "text": [
      "2\n"
     ]
    }
   ],
   "source": [
    "#Sol-5\n",
    "def arrange_coins(n):\n",
    "    k = 0\n",
    "    while n >= 0:\n",
    "        k += 1\n",
    "        n -= k\n",
    "\n",
    "    return k - 1\n",
    "\n",
    "n = 5\n",
    "\n",
    "result = arrange_coins(n)\n",
    "print(result)"
   ]
  },
  {
   "cell_type": "code",
   "execution_count": 13,
   "id": "f6b6b9a1-7b33-444d-adbc-ed57ffe7e622",
   "metadata": {},
   "outputs": [],
   "source": [
    "#Ques-6"
   ]
  },
  {
   "cell_type": "code",
   "execution_count": 14,
   "id": "395523e1-3821-4233-aeae-17fbd6270b2f",
   "metadata": {},
   "outputs": [],
   "source": [
    "#Sol-6\n"
   ]
  },
  {
   "cell_type": "code",
   "execution_count": null,
   "id": "9e6a95e2-4fba-4165-9094-2aa736919ac9",
   "metadata": {},
   "outputs": [],
   "source": []
  }
 ],
 "metadata": {
  "kernelspec": {
   "display_name": "Python 3 (ipykernel)",
   "language": "python",
   "name": "python3"
  },
  "language_info": {
   "codemirror_mode": {
    "name": "ipython",
    "version": 3
   },
   "file_extension": ".py",
   "mimetype": "text/x-python",
   "name": "python",
   "nbconvert_exporter": "python",
   "pygments_lexer": "ipython3",
   "version": "3.10.8"
  }
 },
 "nbformat": 4,
 "nbformat_minor": 5
}
