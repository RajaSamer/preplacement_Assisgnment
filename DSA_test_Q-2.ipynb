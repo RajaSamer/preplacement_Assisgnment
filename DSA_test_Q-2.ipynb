{
 "cells": [
  {
   "cell_type": "code",
   "execution_count": 1,
   "id": "10d72e83-cc3e-47fe-9dc4-04f4105edd04",
   "metadata": {},
   "outputs": [],
   "source": [
    "## DSA_PPT_QUESTION_1"
   ]
  },
  {
   "cell_type": "code",
   "execution_count": 2,
   "id": "93b460ba-37cb-4ce7-a5fc-82cbcd925dd0",
   "metadata": {},
   "outputs": [],
   "source": [
    "# QUES--"
   ]
  },
  {
   "cell_type": "code",
   "execution_count": 3,
   "id": "ee75c3f4-2a82-4ade-8536-698d24d9c85f",
   "metadata": {},
   "outputs": [
    {
     "name": "stdout",
     "output_type": "stream",
     "text": [
      "[1, 3, 12, 0, 0]\n",
      "[0]\n"
     ]
    }
   ],
   "source": [
    "#SOL--\n",
    "def moveZeroes(nums):\n",
    "    left = right = 0\n",
    "\n",
    "    while left < len(nums):\n",
    "        if nums[left] != 0:\n",
    "            nums[left], nums[right] = nums[right], nums[left]\n",
    "            right += 1\n",
    "        left += 1\n",
    "\n",
    "    return nums\n",
    "nums = [0, 1, 0, 3, 12]\n",
    "print(moveZeroes(nums))\n",
    "nums=[0]\n",
    "print(moveZeroes(nums))"
   ]
  },
  {
   "cell_type": "code",
   "execution_count": null,
   "id": "2df0188f-1aa6-40b6-8db6-e68b839a807e",
   "metadata": {},
   "outputs": [],
   "source": []
  }
 ],
 "metadata": {
  "kernelspec": {
   "display_name": "Python 3 (ipykernel)",
   "language": "python",
   "name": "python3"
  },
  "language_info": {
   "codemirror_mode": {
    "name": "ipython",
    "version": 3
   },
   "file_extension": ".py",
   "mimetype": "text/x-python",
   "name": "python",
   "nbconvert_exporter": "python",
   "pygments_lexer": "ipython3",
   "version": "3.10.8"
  }
 },
 "nbformat": 4,
 "nbformat_minor": 5
}
