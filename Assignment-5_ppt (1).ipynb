{
 "cells": [
  {
   "cell_type": "code",
   "execution_count": 1,
   "id": "bff1f16c-9d43-4f83-9271-118e7a5af1e6",
   "metadata": {},
   "outputs": [],
   "source": [
    "## ASSIGNMENT_5_PPT"
   ]
  },
  {
   "cell_type": "code",
   "execution_count": 2,
   "id": "5d27ea15-ac21-4110-bba8-ed1ca9b026c3",
   "metadata": {},
   "outputs": [],
   "source": [
    "#Ques-1"
   ]
  },
  {
   "cell_type": "code",
   "execution_count": 3,
   "id": "7427ed85-6400-4f0a-889f-0e627d64a9aa",
   "metadata": {},
   "outputs": [
    {
     "name": "stdout",
     "output_type": "stream",
     "text": [
      "[[1, 2], [3, 4]]\n"
     ]
    }
   ],
   "source": [
    "#Sol-1\n",
    "def construct2DArray(original, m, n):\n",
    "    if len(original) != m * n:\n",
    "        return []\n",
    "    \n",
    "    result = [[0] * n for _ in range(m)]\n",
    "    \n",
    "    for i in range(len(original)):\n",
    "        row = i // n\n",
    "        col = i % n\n",
    "        result[row][col] = original[i]\n",
    "    \n",
    "    return result\n",
    "\n",
    "original=[1,2,3,4]\n",
    "m=2\n",
    "n=2\n",
    "\n",
    "output=construct2DArray(original,m,n)\n",
    "print(output)"
   ]
  },
  {
   "cell_type": "code",
   "execution_count": 4,
   "id": "0b734fee-c7bd-4049-97f6-ec7b9818d928",
   "metadata": {},
   "outputs": [],
   "source": [
    "#Ques-2"
   ]
  },
  {
   "cell_type": "code",
   "execution_count": 5,
   "id": "0f9da0dd-1593-47c8-8e30-d1bc4c966a9d",
   "metadata": {},
   "outputs": [
    {
     "name": "stdout",
     "output_type": "stream",
     "text": [
      "2\n"
     ]
    }
   ],
   "source": [
    "#Sol-2\n",
    "def find_complete_rows(n):\n",
    "    k = 0\n",
    "    sum = 0\n",
    "    while sum <= n:\n",
    "        k += 1\n",
    "        sum = (k * (k + 1)) // 2\n",
    "    return k - 1\n",
    "n=5\n",
    "result=find_complete_rows(n)\n",
    "print(result)"
   ]
  },
  {
   "cell_type": "code",
   "execution_count": 6,
   "id": "bf088fdd-d097-42a8-b28a-b2c8657126e1",
   "metadata": {},
   "outputs": [],
   "source": [
    "#Ques-3"
   ]
  },
  {
   "cell_type": "code",
   "execution_count": 7,
   "id": "f45044d0-f08e-4ff5-ac7f-233142852842",
   "metadata": {},
   "outputs": [
    {
     "name": "stdout",
     "output_type": "stream",
     "text": [
      "[0, 1, 9, 16, 100]\n"
     ]
    }
   ],
   "source": [
    "#Sol-3\n",
    "def sortedSquares(nums):\n",
    "    result = []\n",
    "    for num in nums:\n",
    "        result.append(num * num)\n",
    "    return sorted(result)\n",
    "\n",
    "nums=[-4,-1,0,3,10]\n",
    "result=sortedSquares(nums)\n",
    "print(result)"
   ]
  },
  {
   "cell_type": "code",
   "execution_count": 8,
   "id": "75a3721e-9dde-459f-9f3e-4b160375e70c",
   "metadata": {},
   "outputs": [],
   "source": [
    "#Ques-4"
   ]
  },
  {
   "cell_type": "code",
   "execution_count": 9,
   "id": "9dd4ca28-339e-4456-85bf-09b9e62e3588",
   "metadata": {},
   "outputs": [
    {
     "name": "stdout",
     "output_type": "stream",
     "text": [
      "[[1, 3], [4, 6]]\n"
     ]
    }
   ],
   "source": [
    "#Sol-4\n",
    "def findDisjoint(nums1, nums2):\n",
    "    set1 = set(nums1)\n",
    "    set2 = set(nums2)\n",
    "    result1 = list(set1 - set2)\n",
    "    result2 = list(set2 - set1)\n",
    "    return [result1, result2]\n",
    "\n",
    "nums1 = [1,2,3]\n",
    "nums2 = [2,4,6]\n",
    "result=findDisjoint(nums1 ,nums2)\n",
    "print(result)"
   ]
  },
  {
   "cell_type": "code",
   "execution_count": 10,
   "id": "bf421ed2-a604-4ba7-ad8f-4b5cff9ee420",
   "metadata": {},
   "outputs": [],
   "source": [
    "#Ques-5"
   ]
  },
  {
   "cell_type": "code",
   "execution_count": 11,
   "id": "1f3fbe7e-d121-4b0f-bc8c-593fc1c93d51",
   "metadata": {},
   "outputs": [
    {
     "name": "stdout",
     "output_type": "stream",
     "text": [
      "2\n"
     ]
    }
   ],
   "source": [
    "#Sol-5\n",
    "def findDistanceValue(arr1, arr2, d):\n",
    "    distance = 0\n",
    "    for num1 in arr1:\n",
    "        is_valid = True\n",
    "        for num2 in arr2:\n",
    "            if abs(num1 - num2) <= d:\n",
    "                is_valid = False\n",
    "                break\n",
    "        if is_valid:\n",
    "            distance += 1\n",
    "    return distance\n",
    "\n",
    "arr1 = [4,5,8]\n",
    "arr2 = [10,9,1,8]\n",
    "d = 2\n",
    "result=findDistanceValue(arr1, arr2, d)\n",
    "print(result)"
   ]
  },
  {
   "cell_type": "code",
   "execution_count": 12,
   "id": "3270473a-545c-4054-9409-7a27ce264485",
   "metadata": {},
   "outputs": [],
   "source": [
    "#Ques-6"
   ]
  },
  {
   "cell_type": "code",
   "execution_count": 13,
   "id": "41d67e89-d019-4596-a6ec-6387d0d2b9e3",
   "metadata": {},
   "outputs": [
    {
     "name": "stdout",
     "output_type": "stream",
     "text": [
      "[2, 3]\n"
     ]
    }
   ],
   "source": [
    "#Sol-6\n",
    "def findDuplicates(nums):\n",
    "    result = []\n",
    "    for num in nums:\n",
    "        num = abs(num)\n",
    "        if nums[num - 1] > 0:\n",
    "            nums[num - 1] *= -1\n",
    "        else:\n",
    "            result.append(num)\n",
    "    return result\n",
    "\n",
    "nums = [4,3,2,7,8,2,3,1]\n",
    "result=findDuplicates(nums)\n",
    "print(result)"
   ]
  },
  {
   "cell_type": "code",
   "execution_count": 14,
   "id": "10bbf383-3698-4135-aa82-9ec275bb59b0",
   "metadata": {},
   "outputs": [],
   "source": [
    "#Ques-7"
   ]
  },
  {
   "cell_type": "code",
   "execution_count": 15,
   "id": "62eb17f3-383d-4258-8bac-819e26e9abd9",
   "metadata": {},
   "outputs": [
    {
     "name": "stdout",
     "output_type": "stream",
     "text": [
      "1\n"
     ]
    }
   ],
   "source": [
    "#Sol-7\n",
    "def findMin(nums):\n",
    "    left, right = 0, len(nums) - 1\n",
    "\n",
    "    while nums[left] > nums[right]:\n",
    "        mid = (left + right) // 2\n",
    "\n",
    "        if nums[mid] > nums[right]:\n",
    "            left = mid + 1\n",
    "        else:\n",
    "            right = mid\n",
    "\n",
    "    return nums[left]\n",
    "\n",
    "nums = [3,4,5,1,2]\n",
    "result=findMin(nums)\n",
    "print(result)"
   ]
  },
  {
   "cell_type": "code",
   "execution_count": 16,
   "id": "45538b91-31d5-4616-a1c0-0592e1f3d417",
   "metadata": {},
   "outputs": [],
   "source": [
    "#Ques-8"
   ]
  },
  {
   "cell_type": "code",
   "execution_count": 17,
   "id": "5d7421a4-122d-487e-ab8b-5825c8538d07",
   "metadata": {},
   "outputs": [
    {
     "name": "stdout",
     "output_type": "stream",
     "text": [
      "[]\n"
     ]
    }
   ],
   "source": [
    "#Sol-8\n",
    "from collections import defaultdict\n",
    "\n",
    "def findOriginalArray(changed):\n",
    "    count = defaultdict(int)\n",
    "\n",
    "    for num in changed:\n",
    "        if count[num] > 0:\n",
    "            count[num] -= 1\n",
    "        else:\n",
    "            count[num * 2] += 1\n",
    "\n",
    "    original = []\n",
    "\n",
    "    for num in changed:\n",
    "        if count[num] > 0:\n",
    "            original.append(num)\n",
    "            count[num] -= 1\n",
    "        elif num == 0 and count[num] == 0:\n",
    "            return []\n",
    "\n",
    "    return original\n",
    "\n",
    "changed = [1,3,4,2,6,8]\n",
    "result=findOriginalArray(changed)\n",
    "print(result)"
   ]
  },
  {
   "cell_type": "code",
   "execution_count": null,
   "id": "ab321911-4254-4690-9df5-9f741d0e511c",
   "metadata": {},
   "outputs": [],
   "source": []
  }
 ],
 "metadata": {
  "kernelspec": {
   "display_name": "Python 3 (ipykernel)",
   "language": "python",
   "name": "python3"
  },
  "language_info": {
   "codemirror_mode": {
    "name": "ipython",
    "version": 3
   },
   "file_extension": ".py",
   "mimetype": "text/x-python",
   "name": "python",
   "nbconvert_exporter": "python",
   "pygments_lexer": "ipython3",
   "version": "3.10.8"
  }
 },
 "nbformat": 4,
 "nbformat_minor": 5
}
