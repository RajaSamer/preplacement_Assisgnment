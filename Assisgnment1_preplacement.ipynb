{
 "cells": [
  {
   "cell_type": "code",
   "execution_count": 1,
   "id": "3271cf1a-2ed8-4859-b756-4a29ac46633b",
   "metadata": {},
   "outputs": [],
   "source": [
    "# Assisgnment 1 {Preplacement Programme}"
   ]
  },
  {
   "cell_type": "code",
   "execution_count": 2,
   "id": "5093a9e7-d29a-4e9d-8be1-00a3d79c8bd6",
   "metadata": {},
   "outputs": [],
   "source": [
    "#Ques-1 "
   ]
  },
  {
   "cell_type": "code",
   "execution_count": 4,
   "id": "a036529a-12bf-4970-9344-3b838ff5a6ad",
   "metadata": {},
   "outputs": [
    {
     "name": "stdout",
     "output_type": "stream",
     "text": [
      "[0, 1]\n"
     ]
    }
   ],
   "source": [
    "##sol-1\n",
    "def twoSum(nums, target):\n",
    "    num_dict = {}\n",
    "    for i, num in enumerate(nums):\n",
    "        complement = target - num\n",
    "        if complement in num_dict:\n",
    "            return [num_dict[complement], i]\n",
    "        num_dict[num] = i\n",
    "    return []\n",
    "\n",
    "\n",
    "nums = [2, 7, 11, 15]\n",
    "target = 9\n",
    "result = twoSum(nums, target)\n",
    "print(result)"
   ]
  },
  {
   "cell_type": "code",
   "execution_count": 5,
   "id": "c215d9a8-2c82-4783-b89c-e5992b370606",
   "metadata": {},
   "outputs": [],
   "source": [
    "#Ques -2"
   ]
  },
  {
   "cell_type": "code",
   "execution_count": 6,
   "id": "5ffd67bf-843e-41d8-ba6e-ff652ad46fd5",
   "metadata": {},
   "outputs": [
    {
     "name": "stdout",
     "output_type": "stream",
     "text": [
      "k = 2\n",
      "nums = [2, 2]\n"
     ]
    }
   ],
   "source": [
    "##sol-2\n",
    "def removeElement(nums, val):\n",
    "    k = 0  \n",
    "    i = 0  \n",
    "    n = len(nums)  \n",
    "\n",
    "    while i < n:\n",
    "        if nums[i] != val:\n",
    "            nums[k] = nums[i]\n",
    "            k += 1\n",
    "        i += 1\n",
    "\n",
    "    return k\n",
    "nums = [3, 2, 2, 3]\n",
    "val = 3\n",
    "k = removeElement(nums, val)\n",
    "print(\"k =\", k)\n",
    "print(\"nums =\", nums[:k])"
   ]
  },
  {
   "cell_type": "code",
   "execution_count": 7,
   "id": "6b8ab252-4fbb-4234-acc8-a488a191e606",
   "metadata": {},
   "outputs": [],
   "source": [
    "#Ques-3"
   ]
  },
  {
   "cell_type": "code",
   "execution_count": 8,
   "id": "d17781a4-ac9e-4121-8086-04cbd9711b4c",
   "metadata": {},
   "outputs": [
    {
     "name": "stdout",
     "output_type": "stream",
     "text": [
      "2\n"
     ]
    }
   ],
   "source": [
    "##Sol-3\n",
    "def searchInsert(nums, target):\n",
    "    left = 0\n",
    "    right = len(nums) - 1\n",
    "\n",
    "    while left <= right:\n",
    "        mid = (left + right) // 2\n",
    "\n",
    "        if nums[mid] == target:\n",
    "            return mid\n",
    "        elif nums[mid] < target:\n",
    "            left = mid + 1\n",
    "        else:\n",
    "            right = mid - 1\n",
    "\n",
    "    return left\n",
    "\n",
    "nums = [1, 3, 5, 6]\n",
    "target = 5\n",
    "result = searchInsert(nums, target)\n",
    "print(result)"
   ]
  },
  {
   "cell_type": "code",
   "execution_count": 9,
   "id": "c35ba810-dad8-4aa8-84af-a0f295f72b03",
   "metadata": {},
   "outputs": [],
   "source": [
    "#Ques-4"
   ]
  },
  {
   "cell_type": "code",
   "execution_count": 10,
   "id": "1e440292-ac5a-4d53-92b6-2db981021c9a",
   "metadata": {},
   "outputs": [
    {
     "name": "stdout",
     "output_type": "stream",
     "text": [
      "[1, 2, 4]\n"
     ]
    }
   ],
   "source": [
    "##Sol-4\n",
    "def plusOne(digits):\n",
    "    n = len(digits)\n",
    "    carry = 1\n",
    "\n",
    "    for i in range(n - 1, -1, -1):\n",
    "        digits[i] += carry\n",
    "        carry = digits[i] // 10\n",
    "        digits[i] %= 10\n",
    "\n",
    "    if carry:\n",
    "        digits.insert(0, carry)\n",
    "\n",
    "    return digits\n",
    "\n",
    "digits = [1, 2, 3]\n",
    "result = plusOne(digits)\n",
    "print(result)"
   ]
  },
  {
   "cell_type": "code",
   "execution_count": 11,
   "id": "1d56b428-6a62-40d3-95f3-ea0184b963fb",
   "metadata": {},
   "outputs": [],
   "source": [
    "#Ques-5"
   ]
  },
  {
   "cell_type": "code",
   "execution_count": 12,
   "id": "d7ec5308-7f95-4739-becd-62867f4f9b0f",
   "metadata": {},
   "outputs": [
    {
     "name": "stdout",
     "output_type": "stream",
     "text": [
      "[1, 2, 2, 3, 5, 6]\n"
     ]
    }
   ],
   "source": [
    "##Sol-5\n",
    "def merge(nums1, m, nums2, n):\n",
    "    i = m - 1  \n",
    "    j = n - 1  \n",
    "    k = m + n - 1  \n",
    "\n",
    "    while i >= 0 and j >= 0:\n",
    "        if nums1[i] >= nums2[j]:\n",
    "            nums1[k] = nums1[i]\n",
    "            i -= 1\n",
    "        else:\n",
    "            nums1[k] = nums2[j]\n",
    "            j -= 1\n",
    "        k -= 1\n",
    "\n",
    "    \n",
    "    while j >= 0:\n",
    "        nums1[k] = nums2[j]\n",
    "        j -= 1\n",
    "        k -= 1\n",
    "\n",
    "    return nums1\n",
    "\n",
    "nums1 = [1, 2, 3, 0, 0, 0]\n",
    "m = 3\n",
    "nums2 = [2, 5, 6]\n",
    "n = 3\n",
    "result = merge(nums1, m, nums2, n)\n",
    "print(result)"
   ]
  },
  {
   "cell_type": "code",
   "execution_count": 13,
   "id": "ee16a8a2-39a8-4c26-bdae-9f785686f06a",
   "metadata": {},
   "outputs": [],
   "source": [
    "##Ques-6"
   ]
  },
  {
   "cell_type": "code",
   "execution_count": 14,
   "id": "ae4b4437-dedd-4fe2-871b-5ecf368e9599",
   "metadata": {},
   "outputs": [
    {
     "name": "stdout",
     "output_type": "stream",
     "text": [
      "True\n"
     ]
    }
   ],
   "source": [
    "##Sol-6 \n",
    "def containsDuplicate(nums):\n",
    "    num_set = set()\n",
    "\n",
    "    for num in nums:\n",
    "        if num in num_set:\n",
    "            return True\n",
    "        else:\n",
    "            num_set.add(num)\n",
    "\n",
    "    return False\n",
    "\n",
    "\n",
    "nums = [1, 2, 3, 1]\n",
    "result = containsDuplicate(nums)\n",
    "print(result)"
   ]
  },
  {
   "cell_type": "code",
   "execution_count": 15,
   "id": "a91f6a1f-2822-44b3-b1cb-e94d40866d61",
   "metadata": {},
   "outputs": [],
   "source": [
    "#Ques-7"
   ]
  },
  {
   "cell_type": "code",
   "execution_count": 16,
   "id": "be0b9601-ab3b-4c57-b232-5964562715b2",
   "metadata": {},
   "outputs": [
    {
     "name": "stdout",
     "output_type": "stream",
     "text": [
      "[1, 3, 12, 0, 0]\n"
     ]
    }
   ],
   "source": [
    "##Sol-7\n",
    "def moveZeroes(nums):\n",
    "    left = 0 \n",
    "\n",
    "    for right in range(len(nums)):\n",
    "        if nums[right] != 0:\n",
    "            nums[left], nums[right] = nums[right], nums[left]\n",
    "            left += 1\n",
    "\n",
    "    return nums\n",
    "\n",
    "nums = [0, 1, 0, 3, 12]\n",
    "result = moveZeroes(nums)\n",
    "print(result)"
   ]
  },
  {
   "cell_type": "code",
   "execution_count": 17,
   "id": "e2ada76b-9f9a-4da6-9efb-6ffbed5f8bf5",
   "metadata": {},
   "outputs": [],
   "source": [
    "#Ques-8"
   ]
  },
  {
   "cell_type": "code",
   "execution_count": 18,
   "id": "c6612a64-ccc0-4109-96f8-ba795165edfb",
   "metadata": {},
   "outputs": [
    {
     "name": "stdout",
     "output_type": "stream",
     "text": [
      "[2, 3]\n"
     ]
    }
   ],
   "source": [
    "##Sol-8\n",
    "def findErrorNums(nums):\n",
    "    n = len(nums)\n",
    "    num_set = set()\n",
    "    duplicate = 0\n",
    "    missing = 0\n",
    "\n",
    "   \n",
    "    for num in nums:\n",
    "        if num in num_set:\n",
    "            duplicate = num\n",
    "        else:\n",
    "            num_set.add(num)\n",
    "\n",
    "   \n",
    "    for i in range(1, n + 1):\n",
    "        if i not in num_set:\n",
    "            missing = i\n",
    "            break\n",
    "\n",
    "    return [duplicate, missing]\n",
    "\n",
    "nums = [1, 2, 2, 4]\n",
    "result = findErrorNums(nums)\n",
    "print(result)"
   ]
  },
  {
   "cell_type": "code",
   "execution_count": null,
   "id": "456d8456-de82-401f-90cb-60b507ac56ba",
   "metadata": {},
   "outputs": [],
   "source": []
  }
 ],
 "metadata": {
  "kernelspec": {
   "display_name": "Python 3 (ipykernel)",
   "language": "python",
   "name": "python3"
  },
  "language_info": {
   "codemirror_mode": {
    "name": "ipython",
    "version": 3
   },
   "file_extension": ".py",
   "mimetype": "text/x-python",
   "name": "python",
   "nbconvert_exporter": "python",
   "pygments_lexer": "ipython3",
   "version": "3.10.8"
  }
 },
 "nbformat": 4,
 "nbformat_minor": 5
}
